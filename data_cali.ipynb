{
 "cells": [
  {
   "cell_type": "code",
   "execution_count": 18,
   "id": "fb69e51e",
   "metadata": {},
   "outputs": [],
   "source": [
    "import numpy as np\n",
    "import json\n",
    "from pprint import pprint\n",
    "from datetime import datetime\n",
    "from scipy.interpolate import interp1d"
   ]
  },
  {
   "cell_type": "code",
   "execution_count": 19,
   "id": "88d4e2be",
   "metadata": {},
   "outputs": [],
   "source": [
    "# The hourly temperature from 9:00 to 12:00 on the day when the data for this study was collected was used for correction.\n",
    "# The temperature was provided by the Meteorological Bureau. \n",
    "# Follow-up studies could conduct localized temperature measurements to improve calibration accuracy.\n",
    "\n",
    "weather_time = np.array([1691802000.0, 1691805600.0, 1691809200.0, 1691812800.0, 1691816400.0])\n",
    "weather_temp = np.array([30.0, 31.0, 32.9, 34.5, 31.1])"
   ]
  },
  {
   "cell_type": "code",
   "execution_count": 20,
   "id": "f6980145",
   "metadata": {},
   "outputs": [],
   "source": [
    "with open('data\\data.json') as json_file:\n",
    "    c_data = json.load(json_file)"
   ]
  },
  {
   "cell_type": "code",
   "execution_count": 21,
   "id": "fe1364d7",
   "metadata": {},
   "outputs": [],
   "source": [
    "my_time = []\n",
    "my_temp = []"
   ]
  },
  {
   "cell_type": "code",
   "execution_count": 22,
   "id": "424e4fec",
   "metadata": {},
   "outputs": [],
   "source": [
    "for cd in c_data:\n",
    "    format_str = \"%Y-%m-%d %H:%M:%S\"\n",
    "    datetime_obj = datetime.strptime(cd['date2'], format_str)\n",
    "    timestamp = datetime_obj.timestamp()\n",
    "    my_time.append(timestamp)\n",
    "    my_temp.append(float(cd['temp']))"
   ]
  },
  {
   "cell_type": "code",
   "execution_count": 23,
   "id": "ec6567df",
   "metadata": {},
   "outputs": [],
   "source": [
    "data_time = np.array(my_time)\n",
    "data_temp = np.array(my_temp)"
   ]
  },
  {
   "cell_type": "code",
   "execution_count": 24,
   "id": "068df5aa",
   "metadata": {},
   "outputs": [
    {
     "data": {
      "text/plain": [
       "4655"
      ]
     },
     "execution_count": 24,
     "metadata": {},
     "output_type": "execute_result"
    }
   ],
   "source": [
    "len(my_time)"
   ]
  },
  {
   "cell_type": "code",
   "execution_count": 25,
   "id": "776d2b9e",
   "metadata": {},
   "outputs": [],
   "source": [
    "#Correction using one-dimensional interpolation\n",
    "\n",
    "interpolator = interp1d(weather_time, weather_temp, kind='linear', fill_value=\"extrapolate\")\n",
    "interpolated_temperature = interpolator(my_time)"
   ]
  },
  {
   "cell_type": "code",
   "execution_count": 26,
   "id": "b42b7e65",
   "metadata": {},
   "outputs": [
    {
     "data": {
      "text/plain": [
       "array([36.318     , 36.336     , 36.3173827 , ..., 33.68768341,\n",
       "       33.73597365, 33.73597365])"
      ]
     },
     "execution_count": 26,
     "metadata": {},
     "output_type": "execute_result"
    }
   ],
   "source": [
    "calied = my_temp / (interpolated_temperature / interpolated_temperature[0])\n",
    "calied"
   ]
  },
  {
   "cell_type": "code",
   "execution_count": 27,
   "id": "c077cc57",
   "metadata": {},
   "outputs": [],
   "source": [
    "calied_data = []"
   ]
  },
  {
   "cell_type": "code",
   "execution_count": 28,
   "id": "c42bd66e",
   "metadata": {},
   "outputs": [],
   "source": [
    "for i in range(len(c_data)):\n",
    "    cd = c_data[i]\n",
    "    cd['cali_temp'] = calied[i]\n",
    "    calied_data.append(cd)"
   ]
  },
  {
   "cell_type": "code",
   "execution_count": 29,
   "id": "67abab2a",
   "metadata": {},
   "outputs": [
    {
     "data": {
      "text/plain": [
       "{'date': '2023-08-12 10:01:36.223',\n",
       " 'date2': '2023-08-12 10:01:36',\n",
       " 'temp': '36.318',\n",
       " 'rh': '75.253',\n",
       " 'atm': '100.75590515',\n",
       " 'lat': '25.038885',\n",
       " 'lon': '121.530971',\n",
       " 'rel_alt': '-0.000',\n",
       " 'cali_temp': 36.318}"
      ]
     },
     "execution_count": 29,
     "metadata": {},
     "output_type": "execute_result"
    }
   ],
   "source": [
    "calied_data[0]"
   ]
  },
  {
   "cell_type": "code",
   "execution_count": 30,
   "id": "b46e29c4",
   "metadata": {},
   "outputs": [
    {
     "data": {
      "text/plain": [
       "4655"
      ]
     },
     "execution_count": 30,
     "metadata": {},
     "output_type": "execute_result"
    }
   ],
   "source": [
    "len(calied_data)"
   ]
  },
  {
   "cell_type": "code",
   "execution_count": 32,
   "id": "0623b172",
   "metadata": {},
   "outputs": [],
   "source": [
    "with open('data/calied_data.json', 'w') as json_file:\n",
    "    json.dump(calied_data, json_file, indent=4)"
   ]
  },
  {
   "cell_type": "code",
   "execution_count": null,
   "id": "69ff375c",
   "metadata": {},
   "outputs": [],
   "source": []
  }
 ],
 "metadata": {
  "kernelspec": {
   "display_name": "Python 3 (ipykernel)",
   "language": "python",
   "name": "python3"
  },
  "language_info": {
   "codemirror_mode": {
    "name": "ipython",
    "version": 3
   },
   "file_extension": ".py",
   "mimetype": "text/x-python",
   "name": "python",
   "nbconvert_exporter": "python",
   "pygments_lexer": "ipython3",
   "version": "3.11.5"
  }
 },
 "nbformat": 4,
 "nbformat_minor": 5
}
